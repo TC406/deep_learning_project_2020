{
 "cells": [
  {
   "cell_type": "code",
   "execution_count": null,
   "metadata": {},
   "outputs": [],
   "source": [
    "from aeronet.dataset import BandCollection, FeatureCollection, rasterize\n",
    "from aeronet.converters.split import split\n",
    "from pathlib import Path\n",
    "import rasterio\n",
    "from matplotlib import pyplot as plt\n",
    "import numpy as np\n",
    "import aeronet.dataset as ds\n",
    "from aeronet.dataset.transforms import polygonize\n",
    "import imageio\n",
    "import sys\n",
    "import glob\n",
    "from pathlib import Path"
   ]
  },
  {
   "cell_type": "code",
   "execution_count": null,
   "metadata": {},
   "outputs": [],
   "source": [
    "sys.path.append('..')"
   ]
  },
  {
   "cell_type": "code",
   "execution_count": null,
   "metadata": {},
   "outputs": [],
   "source": [
    "from create_dataset.image_batches import create_coco_dataset"
   ]
  },
  {
   "cell_type": "code",
   "execution_count": null,
   "metadata": {},
   "outputs": [],
   "source": [
    "# create_coco_dataset?"
   ]
  },
  {
   "cell_type": "code",
   "execution_count": null,
   "metadata": {},
   "outputs": [],
   "source": [
    "imagery_path_list = glob.glob('/gpfs/gpfs0/k.gizatullin/agrofield_project/raw_data/Denmark_from_usgs_preprocessed_2/*')"
   ]
  },
  {
   "cell_type": "code",
   "execution_count": null,
   "metadata": {},
   "outputs": [],
   "source": [
    "output_batches_path = \"/gpfs/gpfs0/k.gizatullin/agrofield_project/preprocessed_Denmark_05_06_2020/output_batches/\"\n",
    "output_shapes_path = \"/gpfs/gpfs0/k.gizatullin/agrofield_project/preprocessed_Denmark_05_06_2020/output_shapes/\"\n",
    "shapes_filename = \"/gpfs/gpfs0/k.gizatullin/agrofield_project/raw_data/Marker_2016_CVR/Marker_2016_CVR.geojson\""
   ]
  },
  {
   "cell_type": "code",
   "execution_count": null,
   "metadata": {},
   "outputs": [],
   "source": [
    "start_image_index = 1\n",
    "for imagery_path in imagery_path_list:\n",
    "    images = []\n",
    "    scl_path = \"\"\n",
    "    for path in Path(imagery_path).rglob('*TCI_10m*'):\n",
    "        images.append(str(path))\n",
    "    for path in Path(imagery_path).rglob('*B08_10m*'):\n",
    "        images.append(str(path))\n",
    "    for path in Path(imagery_path).rglob('*SCL_20m*'):\n",
    "        scl_path = str(path)\n",
    "    create_coco_dataset(images, shapes_filename, \n",
    "                    output_batches_path, output_shapes_path, \n",
    "                    extention='tiff', SCL_path=scl_path, start_image_index=start_image_index)\n",
    "    start_image_index = np.max([int(filepath_buf.split(\"/\")[-1].split(\".\")[0]) for filepath_buf in glob.glob(output_batches_path+\"*\")])"
   ]
  },
  {
   "cell_type": "code",
   "execution_count": null,
   "metadata": {},
   "outputs": [],
   "source": [
    "awewe"
   ]
  },
  {
   "cell_type": "code",
   "execution_count": null,
   "metadata": {},
   "outputs": [],
   "source": [
    "tiff_filenames = [\"/gpfs/gpfs0/k.gizatullin/agrofield_project/raw_data/S2A_MSIL1C_20160724T103032_N0204_R108_T32UPG_20160724T103229.SAFE/GRANULE/L1C_T32UPG_A005682_20160724T103229/IMG_DATA/T32UPG_20160724T103032_TCI.jp2\",\n",
    "                  \"/gpfs/gpfs0/k.gizatullin/agrofield_project/raw_data/S2A_MSIL1C_20160724T103032_N0204_R108_T32UPG_20160724T103229.SAFE/GRANULE/L1C_T32UPG_A005682_20160724T103229/IMG_DATA/T32UPG_20160724T103032_B08.jp2\"]"
   ]
  },
  {
   "cell_type": "code",
   "execution_count": null,
   "metadata": {},
   "outputs": [],
   "source": [
    "# tiff_filename = \"/gpfs/gpfs0/k.gizatullin/agrofield_project/raw_data/S2A_MSIL1C_20160724T103032_N0204_R108_T32UPG_20160724T103229.SAFE/GRANULE/L1C_T32UPG_A005682_20160724T103229/IMG_DATA/T32UPG_20160724T103032_TCI.tif\"\n",
    "shapes_filename = \"/gpfs/gpfs0/k.gizatullin/agrofield_project/raw_data/Marker_2016_CVR/Marker_2016_CVR.geojson\"\n",
    "output_batches_path = \"/gpfs/gpfs0/k.gizatullin/agrofield_project/preprocess_data_test/output_batches/\"\n",
    "output_shapes_path = \"/gpfs/gpfs0/k.gizatullin/agrofield_project/preprocess_data_test/output_shapes/\"\n",
    "scl_path = \"/gpfs/gpfs0/k.gizatullin/agrofield_project/raw_data/SCL.jp2\""
   ]
  },
  {
   "cell_type": "code",
   "execution_count": null,
   "metadata": {},
   "outputs": [],
   "source": [
    "from aeronet.dataset.raster import Band"
   ]
  },
  {
   "cell_type": "code",
   "execution_count": null,
   "metadata": {},
   "outputs": [],
   "source": [
    "bc = split(images[0], images[0].split(\"/\")[-1], ['BLU', 'GRN', 'RED'])"
   ]
  },
  {
   "cell_type": "code",
   "execution_count": null,
   "metadata": {},
   "outputs": [],
   "source": [
    "bc.append(Band(images[1]))"
   ]
  },
  {
   "cell_type": "code",
   "execution_count": null,
   "metadata": {},
   "outputs": [],
   "source": [
    "scl_mask = Band(scl_path)\n",
    "if scl_mask.shape[-1] != bc.shape[-1]:\n",
    "    scl_mask = scl_mask.resample(dst_res=(10, 10), interpolation='nearest')\n",
    "bc.append(scl_mask)"
   ]
  },
  {
   "cell_type": "code",
   "execution_count": null,
   "metadata": {},
   "outputs": [],
   "source": [
    "bc._bands[-1].name"
   ]
  },
  {
   "cell_type": "code",
   "execution_count": null,
   "metadata": {},
   "outputs": [],
   "source": [
    "[bc._bands[i].name for i in range(len(bc._bands))]"
   ]
  },
  {
   "cell_type": "code",
   "execution_count": null,
   "metadata": {},
   "outputs": [],
   "source": [
    "test_arr.shape"
   ]
  },
  {
   "cell_type": "code",
   "execution_count": null,
   "metadata": {},
   "outputs": [],
   "source": [
    "create_coco_dataset(tiff_filenames, shapes_filename, \n",
    "                    output_batches_path, output_shapes_path, \n",
    "                    extention='tiff', SCL_path=scl_path, start_image_index=901)"
   ]
  },
  {
   "cell_type": "code",
   "execution_count": null,
   "metadata": {},
   "outputs": [],
   "source": [
    "test_arr = imageio.imread(\"/gpfs/gpfs0/k.gizatullin/agrofield_project/preprocess_data_test/output_batches/1.tiff\")"
   ]
  },
  {
   "cell_type": "code",
   "execution_count": null,
   "metadata": {},
   "outputs": [],
   "source": [
    "test_arr.shape"
   ]
  },
  {
   "cell_type": "code",
   "execution_count": null,
   "metadata": {},
   "outputs": [],
   "source": [
    "import glob"
   ]
  },
  {
   "cell_type": "code",
   "execution_count": null,
   "metadata": {},
   "outputs": [],
   "source": [
    "np.max([int(filepath_buf.split(\"/\")[-1].split(\".\")[0]) for filepath_buf in glob.glob(output_batches_path+\"*\")])"
   ]
  },
  {
   "cell_type": "code",
   "execution_count": null,
   "metadata": {},
   "outputs": [],
   "source": [
    "glob.glob(output_batches_path+\"*\")[0].split(\"/\")[-1].split(\".\")[0]"
   ]
  },
  {
   "cell_type": "code",
   "execution_count": null,
   "metadata": {},
   "outputs": [],
   "source": [
    "test_arr[:,:,3].dtype"
   ]
  },
  {
   "cell_type": "code",
   "execution_count": null,
   "metadata": {},
   "outputs": [],
   "source": [
    "awewe"
   ]
  },
  {
   "cell_type": "code",
   "execution_count": null,
   "metadata": {},
   "outputs": [],
   "source": [
    "from create_dataset import coco_json"
   ]
  },
  {
   "cell_type": "code",
   "execution_count": null,
   "metadata": {},
   "outputs": [],
   "source": [
    "from config_coco_json import *"
   ]
  },
  {
   "cell_type": "code",
   "execution_count": null,
   "metadata": {},
   "outputs": [],
   "source": [
    "ROOT_DIR"
   ]
  },
  {
   "cell_type": "code",
   "execution_count": null,
   "metadata": {},
   "outputs": [],
   "source": [
    "coco_json.create_coco_json(\"14.05.2020_test.json\")"
   ]
  },
  {
   "cell_type": "code",
   "execution_count": null,
   "metadata": {},
   "outputs": [],
   "source": []
  },
  {
   "cell_type": "code",
   "execution_count": null,
   "metadata": {},
   "outputs": [],
   "source": [
    "import os"
   ]
  },
  {
   "cell_type": "code",
   "execution_count": null,
   "metadata": {},
   "outputs": [],
   "source": [
    "import datetime"
   ]
  },
  {
   "cell_type": "code",
   "execution_count": null,
   "metadata": {},
   "outputs": [],
   "source": [
    "IMAGE_DIR = os.path.join(ROOT_DIR, IMAGE_DIR)\n",
    "ANNOTATION_DIR = os.path.join(ROOT_DIR, ANNOTATION_DIR)\n",
    "INFO[\"date_created\"] = datetime.datetime.utcnow().isoformat(' ')"
   ]
  },
  {
   "cell_type": "code",
   "execution_count": null,
   "metadata": {},
   "outputs": [],
   "source": [
    "IMAGE_DIR"
   ]
  },
  {
   "cell_type": "code",
   "execution_count": null,
   "metadata": {},
   "outputs": [],
   "source": [
    "for root, _ ,files in os.walk(IMAGE_DIR):\n",
    "        image_files = coco_json.filter_for_jpeg(root,files)\n",
    "        print(files, image_files)"
   ]
  },
  {
   "cell_type": "code",
   "execution_count": null,
   "metadata": {},
   "outputs": [],
   "source": [
    "len(files)"
   ]
  },
  {
   "cell_type": "code",
   "execution_count": null,
   "metadata": {},
   "outputs": [],
   "source": [
    "image_files"
   ]
  },
  {
   "cell_type": "code",
   "execution_count": null,
   "metadata": {},
   "outputs": [],
   "source": []
  }
 ],
 "metadata": {
  "kernelspec": {
   "display_name": "Python 3",
   "language": "python",
   "name": "python3"
  },
  "language_info": {
   "codemirror_mode": {
    "name": "ipython",
    "version": 3
   },
   "file_extension": ".py",
   "mimetype": "text/x-python",
   "name": "python",
   "nbconvert_exporter": "python",
   "pygments_lexer": "ipython3",
   "version": "3.7.6"
  }
 },
 "nbformat": 4,
 "nbformat_minor": 4
}
